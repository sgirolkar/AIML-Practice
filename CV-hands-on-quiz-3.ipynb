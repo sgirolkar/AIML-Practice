{
 "cells": [
  {
   "cell_type": "code",
   "execution_count": 1,
   "id": "ef69e825-fba4-4f7a-b9f6-eb3bb889aa45",
   "metadata": {},
   "outputs": [],
   "source": [
    "#Reading the training images from the path and labelling them into the given categories\n",
    "import numpy as np\n",
    "import pandas as pd\n",
    "import matplotlib.pyplot as plt\n",
    "import cv2 # this is an important module to get imported which may even cause issues while reading the data if not used\n",
    "import os\n",
    "import seaborn as sns # for data visualization \n",
    "import tensorflow as tf\n",
    "import keras\n",
    "from tensorflow.keras.models import Sequential #sequential api for sequential model \n",
    "from tensorflow.keras.layers import Dense, Dropout, Flatten #importing different layers \n",
    "from tensorflow.keras.layers import Conv2D, MaxPooling2D, BatchNormalization, Activation, Input, LeakyReLU,Activation\n",
    "from tensorflow.keras import backend as K\n",
    "from tensorflow.keras.utils import to_categorical #to perform one-hot encoding \n",
    "from tensorflow.keras.layers import Dense, Dropout, Flatten, Conv2D, MaxPool2D\n",
    "from tensorflow.keras.optimizers import RMSprop,Adam #optimiers for optimizing the model\n",
    "from tensorflow.keras.callbacks import EarlyStopping  #regularization method to prevent the overfitting\n",
    "from tensorflow.keras.callbacks import ModelCheckpoint\n",
    "from tensorflow.keras.models import Sequential, Model\n",
    "from tensorflow.keras import losses, optimizers\n",
    "from PIL import Image\n",
    "from tensorflow.keras.preprocessing import image"
   ]
  },
  {
   "cell_type": "code",
   "execution_count": 2,
   "id": "fa3430ae-c78d-46b4-bb59-adc3ca4592e4",
   "metadata": {
    "id": "rOIuj9WlOkNJ"
   },
   "outputs": [],
   "source": [
    "# Storing the training path in a variable named DATADIR, and storing the unique categories/labels in a list\n",
    "\n",
    "DATADIR = \"./shapes/Training\"                                             # Path of training data after unzipping\n",
    "CATEGORIES = [\"circles\",\"squares\",\"triangles\"]  # Storing all the categories in categories variable\n",
    "IMG_SIZE=28                                                                   # Defining the size of the image to 150    \n",
    "                     "
   ]
  },
  {
   "cell_type": "code",
   "execution_count": 3,
   "id": "58228daf-d923-4701-9e81-8d14760a167a",
   "metadata": {
    "id": "d3gLIZA_2mma"
   },
   "outputs": [],
   "source": [
    "# Here we will be using a user defined function create_training_data() to extract the images from the directory\n",
    "training_data = []                                                             # Storing all the training images\n",
    "def create_training_data():\n",
    "    for category in CATEGORIES:                                                # Looping over each category from the CATEGORIES list\n",
    "        path = os.path.join(DATADIR,category)                                  # Joining images with labels\n",
    "        class_num = category                                                   \n",
    "        for img in os.listdir(path):                                           \n",
    "          img_array = cv2.imread(os.path.join(path,img),cv2.IMREAD_GRAYSCALE)  # Converting image to greyscale to reduce the complexity and computation \n",
    "          new_array = cv2.resize(img_array,(IMG_SIZE,IMG_SIZE))                # Resizing the images \n",
    "          training_data.append([new_array,class_num])                          # Appending both the images and labels\n",
    "create_training_data()"
   ]
  },
  {
   "cell_type": "markdown",
   "id": "f035c5d8-ab4a-496f-9e00-fc52a81761dc",
   "metadata": {
    "id": "aOzq2maeXxUg"
   },
   "source": [
    "### **Reading the Testing Dataset**\n"
   ]
  },
  {
   "cell_type": "code",
   "execution_count": 4,
   "id": "1807aa93-c7bf-45ce-945a-fdf595502416",
   "metadata": {
    "id": "Hjy4-7uLP2PD"
   },
   "outputs": [],
   "source": [
    "DATADIR_test = \"./shapes/Testing\"                                         # Path of testing data after unzipping\n",
    "CATEGORIES = [\"circles\",\"squares\",\"triangles\"]  # Storing all the categories in categories variable\n",
    "IMG_SIZE=28                                                                   # Defining the size of the image to 150"
   ]
  },
  {
   "cell_type": "code",
   "execution_count": 5,
   "id": "d257fe9c-b52b-4f44-aba4-ed2fa467e26a",
   "metadata": {
    "id": "HO7Wo6jHWkE_"
   },
   "outputs": [],
   "source": [
    "# Here we will be using a user defined function create_testing_data() to extract the images from the directory\n",
    "testing_data = []\n",
    "\n",
    "def create_testing_data():                                                     # Storing all the testing images\n",
    "    for category in CATEGORIES:                                                # Looping over each category from the CATEGORIES list\n",
    "        path = os.path.join(DATADIR_test,category)                             # Joining images with labels     \n",
    "        class_num = category\n",
    "        for img in os.listdir(path):                                           \n",
    "          img_array = cv2.imread(os.path.join(path,img),cv2.IMREAD_GRAYSCALE)  # Converting image to greyscale to reduce the complexity and computation \n",
    "          new_array = cv2.resize(img_array,(IMG_SIZE,IMG_SIZE))                # Resizing the images\n",
    "          testing_data.append([new_array,class_num])                           # Appending both the images and labels\n",
    "\n",
    "create_testing_data()"
   ]
  },
  {
   "cell_type": "markdown",
   "id": "4170cf29-0392-4f69-a844-ea0c03fd7472",
   "metadata": {
    "id": "Z7vzDL7yQqyh"
   },
   "source": [
    "**Let's visualize MRI images randomly from each of the four classes.** \n",
    "\n",
    "\n"
   ]
  },
  {
   "cell_type": "code",
   "execution_count": 6,
   "id": "a545b670-753f-4792-a4b8-0210e60a268b",
   "metadata": {
    "id": "BRfPP-hi1mat"
   },
   "outputs": [],
   "source": [
    "# Creating 4 different lists to store the image names for each category by reading them from their respective directories. \n",
    "circles = [fn for fn in os.listdir(f'{DATADIR}/{CATEGORIES[0]}') ]    # Looping over the path of each image from the glioma_tumor directory\n",
    "squares = [fn for fn in os.listdir(f'{DATADIR}/{CATEGORIES[1]}')]     # Looping over the path of each image from the meningioma_tumor directory\n",
    "triangles = [fn for fn in os.listdir(f'{DATADIR}/{CATEGORIES[2]}') ]  # Looping over the path of each image from the no_tumor directory\n",
    "\n",
    "\n",
    "# Ranodmly selecting 3 images from each category\n",
    "select_cir = np.random.choice(circles, 3, replace = False)               \n",
    "select_sq = np.random.choice(squares, 3, replace = False)\n",
    "select_tr = np.random.choice(triangles, 3, replace = False)"
   ]
  },
  {
   "cell_type": "code",
   "execution_count": 7,
   "id": "a71b56f1-2ff6-4f67-b9a1-c8db3ab06dbe",
   "metadata": {
    "colab": {
     "base_uri": "https://localhost:8080/",
     "height": 591
    },
    "id": "IdqDkn4w1v7J",
    "outputId": "77d8237f-5c57-4a78-b9fb-fc19a46f60ee"
   },
   "outputs": [
    {
     "data": {
      "image/png": "[encoded data removed]",
      "text/plain": [
       "<Figure size 720x720 with 9 Axes>"
      ]
     },
     "metadata": {
      "needs_background": "light"
     },
     "output_type": "display_data"
    }
   ],
   "source": [
    "\n",
    "# plotting 4 x 3 image matrix\n",
    "fig = plt.figure(figsize = (10,10))\n",
    "\n",
    "# Plotting three images from each of the four categories by looping through their path \n",
    "for i in range(9):\n",
    "    if i < 3:\n",
    "        fp = f'{DATADIR}/{CATEGORIES[0]}/{select_cir[i]}'  # Here datadir is a path to the training data and categories[0] indicate the first label galioma tumor and here we are looping over to take the three random images that we have stored in select_galo variable \n",
    "        label = 'Circle'                                   \n",
    "    if i>=3 and i<6:\n",
    "        fp = f'{DATADIR}/{CATEGORIES[1]}/{select_sq[i-3]}'  # Here datadir is a path to the training data and categories[1] indicate the second label meningioma tumor and here we are looping over to take the three random images that we have stored in select_menin variable \n",
    "        label = 'Square' \n",
    "    if i>=6 and i<9:\n",
    "        fp = f'{DATADIR}/{CATEGORIES[2]}/{select_tr[i-6]}'   # Here datadir is a path to the training data and categories[2] indicate the third label no tumor and here we are looping over to take the three random images that we have stored in select_no_t variable \n",
    "        label = 'Triangle'\n",
    "    ax = fig.add_subplot(3, 3, i+1)\n",
    "    \n",
    "    # Plotting each image using load_img function\n",
    "    fn = image.load_img(fp, target_size = (28,28), color_mode='grayscale')\n",
    "    plt.imshow(fn, cmap='Greys_r')\n",
    "    plt.title(label)\n",
    "    plt.axis('off')\n",
    "plt.show()"
   ]
  },
  {
   "cell_type": "markdown",
   "id": "0f3cee17-636f-4fcc-9ed4-d6ed04c936d2",
   "metadata": {
    "id": "Wxmm9eZPYKEw"
   },
   "source": [
    "### **Data Preprocessing** "
   ]
  },
  {
   "cell_type": "code",
   "execution_count": 8,
   "id": "762de0a6-3f78-4f74-a9d8-d48c77d3f9d2",
   "metadata": {
    "id": "bSfeBdl527nK"
   },
   "outputs": [],
   "source": [
    "# Creating two different lists to store the Numpy arrays and the corresponding labels\n",
    "X_train = []                                                                   \n",
    "y_train = []\n",
    "np.random.shuffle(training_data)          # Shuffling data to reduce variance and making sure that model remains general and overfit less\n",
    "for features,label in training_data:      # Iterating over the training data which is generated from the create_training_data() function \n",
    "    X_train.append(features)              # Appending images into X_train\n",
    "    y_train.append(label)                 # Appending labels into y_train"
   ]
  },
  {
   "cell_type": "code",
   "execution_count": 9,
   "id": "5cf1336e-960f-4a60-a971-8c4b438747b2",
   "metadata": {
    "id": "bVEJpQuaYw72"
   },
   "outputs": [],
   "source": [
    "# Creating two different lists to store the Numpy arrays and the corresponding labels\n",
    "X_test = []\n",
    "y_test = []\n",
    "\n",
    "np.random.shuffle(testing_data)          # Shuffling data to reduce variance and making sure that model remains general and overfit less\n",
    "for features,label in testing_data:      # Iterating over the training data which is generated from the create_testing_data() function\n",
    "    X_test.append(features)              # Appending images into X_train\n",
    "    y_test.append(label)                 # Appending labels into y_train"
   ]
  },
  {
   "cell_type": "code",
   "execution_count": 10,
   "id": "beb88a5a-5a25-4cea-bc0f-4fe94df4408d",
   "metadata": {
    "id": "jCtaXu_iO3XS"
   },
   "outputs": [],
   "source": [
    "# Converting the list into DataFrame\n",
    "y_train = pd.DataFrame(y_train, columns=[\"Label\"],dtype=object) \n",
    "y_test = pd.DataFrame(y_test, columns=[\"Label\"],dtype=object)"
   ]
  },
  {
   "cell_type": "code",
   "execution_count": 11,
   "id": "08c379cd-e896-4eaf-bd75-eb6fde492f3d",
   "metadata": {
    "id": "oOGvpyf42acL"
   },
   "outputs": [],
   "source": [
    "# Converting the pixel values into Numpy array\n",
    "X_train= np.array(X_train) \n",
    "X_test= np.array(X_test) "
   ]
  },
  {
   "cell_type": "code",
   "execution_count": 12,
   "id": "ed4f97a4-7483-4276-9975-e18aff6e5f7f",
   "metadata": {},
   "outputs": [],
   "source": [
    "## Normalizing the image data \n",
    "X_train= X_train/255.0\n",
    "X_test = X_test/255.0"
   ]
  },
  {
   "cell_type": "code",
   "execution_count": 13,
   "id": "d28f06f9-693a-47f5-bf9e-effa457fbcad",
   "metadata": {
    "id": "58dRjnj7VcHz"
   },
   "outputs": [],
   "source": [
    "from sklearn.preprocessing import LabelBinarizer\n",
    "# Storing the LabelBinarizer function in lb variable\n",
    "lb = LabelBinarizer() \n",
    "# Applying fit_transform on train target variable\n",
    "y_train_e = lb.fit_transform(y_train)\n",
    "# Applying only transform on test target variable\n",
    "y_test_e = lb.transform(y_test)"
   ]
  },
  {
   "cell_type": "code",
   "execution_count": 14,
   "id": "c6035680-b28d-49c1-8803-39ea4f23fa2d",
   "metadata": {},
   "outputs": [],
   "source": [
    "import random\n",
    "random.seed(1)\n",
    "np.random.seed(1) \n",
    "tf.random.set_seed(1)\n"
   ]
  },
  {
   "cell_type": "code",
   "execution_count": 15,
   "id": "27fb82c2-10d3-47c5-b0be-f2333747b9d1",
   "metadata": {},
   "outputs": [
    {
     "name": "stderr",
     "output_type": "stream",
     "text": [
      "2022-03-19 22:28:52.422020: I tensorflow/core/platform/cpu_feature_guard.cc:151] This TensorFlow binary is optimized with oneAPI Deep Neural Network Library (oneDNN) to use the following CPU instructions in performance-critical operations:  AVX2 FMA\n",
      "To enable them in other operations, rebuild TensorFlow with the appropriate compiler flags.\n"
     ]
    }
   ],
   "source": [
    "model = Sequential()\n",
    "model.add(Conv2D(64, 3, activation=\"relu\", padding=\"same\", input_shape=[28,28,1]))\n",
    "model.add(MaxPooling2D(2))\n",
    "model.add(Conv2D(128, 3, activation=\"relu\", padding=\"same\"))\n",
    "model.add(Flatten())\n",
    "model.add(Dense(64,activation=\"relu\"))\n",
    "model.add(Dropout(0.5))\n",
    "model.add(Dense(32,activation=\"relu\"))\n",
    "model.add(Dropout(0.5))\n",
    "model.add(Dense(3, activation=\"softmax\"))\n",
    "optimizer = Adam()\n",
    "loss = tf.keras.losses.CategoricalCrossentropy()\n",
    "model.compile(loss=loss, optimizer=optimizer, metrics=[\"accuracy\"])\n"
   ]
  },
  {
   "cell_type": "code",
   "execution_count": 16,
   "id": "704848ba-4d10-4357-8b0b-b8c2c398076a",
   "metadata": {},
   "outputs": [
    {
     "name": "stdout",
     "output_type": "stream",
     "text": [
      "Epoch 1/30\n",
      "7/7 [==============================] - 1s 61ms/step - loss: 1.2564 - accuracy: 0.2917 - val_loss: 1.1006 - val_accuracy: 0.2917\n",
      "Epoch 2/30\n",
      "7/7 [==============================] - 0s 37ms/step - loss: 1.0980 - accuracy: 0.3565 - val_loss: 1.1000 - val_accuracy: 0.2917\n",
      "Epoch 3/30\n",
      "7/7 [==============================] - 0s 38ms/step - loss: 1.0998 - accuracy: 0.3102 - val_loss: 1.0996 - val_accuracy: 0.2917\n",
      "Epoch 4/30\n",
      "7/7 [==============================] - 0s 38ms/step - loss: 1.0996 - accuracy: 0.3287 - val_loss: 1.0986 - val_accuracy: 0.2917\n",
      "Epoch 5/30\n",
      "7/7 [==============================] - 0s 38ms/step - loss: 1.0988 - accuracy: 0.3287 - val_loss: 1.0988 - val_accuracy: 0.2917\n",
      "Epoch 6/30\n",
      "7/7 [==============================] - 0s 37ms/step - loss: 1.0987 - accuracy: 0.3380 - val_loss: 1.0987 - val_accuracy: 0.2917\n",
      "Epoch 7/30\n",
      "7/7 [==============================] - 0s 38ms/step - loss: 1.0986 - accuracy: 0.3380 - val_loss: 1.0988 - val_accuracy: 0.2917\n",
      "Epoch 8/30\n",
      "7/7 [==============================] - 0s 39ms/step - loss: 1.0988 - accuracy: 0.3380 - val_loss: 1.0994 - val_accuracy: 0.2917\n",
      "Epoch 9/30\n",
      "7/7 [==============================] - 0s 40ms/step - loss: 1.0987 - accuracy: 0.3380 - val_loss: 1.0997 - val_accuracy: 0.2917\n",
      "Epoch 10/30\n",
      "7/7 [==============================] - 0s 39ms/step - loss: 1.0987 - accuracy: 0.3380 - val_loss: 1.1000 - val_accuracy: 0.2917\n",
      "Epoch 11/30\n",
      "7/7 [==============================] - 0s 39ms/step - loss: 1.0986 - accuracy: 0.3380 - val_loss: 1.1003 - val_accuracy: 0.2917\n",
      "Epoch 12/30\n",
      "7/7 [==============================] - 0s 39ms/step - loss: 1.0986 - accuracy: 0.3380 - val_loss: 1.1003 - val_accuracy: 0.2917\n",
      "Epoch 13/30\n",
      "7/7 [==============================] - 0s 39ms/step - loss: 1.0986 - accuracy: 0.3380 - val_loss: 1.1009 - val_accuracy: 0.2917\n",
      "Epoch 14/30\n",
      "7/7 [==============================] - 0s 38ms/step - loss: 1.0986 - accuracy: 0.3380 - val_loss: 1.1010 - val_accuracy: 0.2917\n",
      "Epoch 15/30\n",
      "7/7 [==============================] - 0s 38ms/step - loss: 1.0981 - accuracy: 0.3380 - val_loss: 1.1012 - val_accuracy: 0.2917\n",
      "Epoch 16/30\n",
      "7/7 [==============================] - 0s 38ms/step - loss: 1.0981 - accuracy: 0.3380 - val_loss: 1.1015 - val_accuracy: 0.2917\n",
      "Epoch 17/30\n",
      "7/7 [==============================] - 0s 39ms/step - loss: 1.0989 - accuracy: 0.3380 - val_loss: 1.1016 - val_accuracy: 0.2917\n",
      "Epoch 18/30\n",
      "7/7 [==============================] - 0s 39ms/step - loss: 1.0990 - accuracy: 0.3380 - val_loss: 1.1016 - val_accuracy: 0.2917\n",
      "Epoch 19/30\n",
      "7/7 [==============================] - 0s 39ms/step - loss: 1.0987 - accuracy: 0.3472 - val_loss: 1.1016 - val_accuracy: 0.2917\n",
      "Epoch 20/30\n",
      "7/7 [==============================] - 0s 40ms/step - loss: 1.0987 - accuracy: 0.3426 - val_loss: 1.1019 - val_accuracy: 0.2917\n",
      "Epoch 21/30\n",
      "7/7 [==============================] - 0s 42ms/step - loss: 1.0984 - accuracy: 0.3194 - val_loss: 1.1021 - val_accuracy: 0.2917\n",
      "Epoch 22/30\n",
      "7/7 [==============================] - 0s 46ms/step - loss: 1.0982 - accuracy: 0.3333 - val_loss: 1.1025 - val_accuracy: 0.2917\n",
      "Epoch 23/30\n",
      "7/7 [==============================] - 0s 47ms/step - loss: 1.0982 - accuracy: 0.3102 - val_loss: 1.1029 - val_accuracy: 0.2917\n",
      "Epoch 24/30\n",
      "7/7 [==============================] - 0s 46ms/step - loss: 1.0988 - accuracy: 0.3102 - val_loss: 1.1032 - val_accuracy: 0.2917\n",
      "Epoch 25/30\n",
      "7/7 [==============================] - 0s 39ms/step - loss: 1.0981 - accuracy: 0.3287 - val_loss: 1.1034 - val_accuracy: 0.2917\n",
      "Epoch 26/30\n",
      "7/7 [==============================] - 0s 40ms/step - loss: 1.0980 - accuracy: 0.3241 - val_loss: 1.1036 - val_accuracy: 0.2917\n",
      "Epoch 27/30\n",
      "7/7 [==============================] - 0s 41ms/step - loss: 1.0978 - accuracy: 0.3333 - val_loss: 1.1039 - val_accuracy: 0.2917\n",
      "Epoch 28/30\n",
      "7/7 [==============================] - 0s 45ms/step - loss: 1.0981 - accuracy: 0.3565 - val_loss: 1.1041 - val_accuracy: 0.2917\n",
      "Epoch 29/30\n",
      "7/7 [==============================] - 0s 44ms/step - loss: 1.0990 - accuracy: 0.3102 - val_loss: 1.1043 - val_accuracy: 0.2917\n",
      "Epoch 30/30\n",
      "7/7 [==============================] - 0s 42ms/step - loss: 1.0981 - accuracy: 0.3611 - val_loss: 1.1044 - val_accuracy: 0.2917\n"
     ]
    }
   ],
   "source": [
    "# classifier.fit(\n",
    "#     normalized_ds,\n",
    "#     # steps_per_epoch = int(240/32),\n",
    "#     epochs = 100,\n",
    "#     validation_data = normalized_val_ds,\n",
    "#     # validation_steps = int(60/32),\n",
    "#     # validation_split=0.2, \n",
    "#     batch_size=batch_size, \n",
    "#     callbacks=[es], \n",
    "#     verbose=1,\n",
    "#     # class_weight=class_weights\n",
    "# )\n",
    "\n",
    "history = model.fit(\n",
    "    X_train, \n",
    "    y_train_e, \n",
    "    validation_split=0.1, \n",
    "    batch_size=32,\n",
    "    epochs=30\n",
    ")"
   ]
  },
  {
   "cell_type": "code",
   "execution_count": 18,
   "id": "1ddfa668-b19c-482b-95b6-53b17f137e90",
   "metadata": {},
   "outputs": [
    {
     "name": "stdout",
     "output_type": "stream",
     "text": [
      "2/2 [==============================] - 0s 9ms/step - loss: 1.0988 - accuracy: 0.3333\n"
     ]
    }
   ],
   "source": [
    "acc=model.evaluate(X_test,np.array(y_test_e))"
   ]
  },
  {
   "cell_type": "code",
   "execution_count": null,
   "id": "90049413-eaf1-4555-8251-6a1fd0b6a42a",
   "metadata": {},
   "outputs": [],
   "source": []
  }
 ],
 "metadata": {
  "kernelspec": {
   "display_name": "Python 3 (ipykernel)",
   "language": "python",
   "name": "python3"
  },
  "language_info": {
   "codemirror_mode": {
    "name": "ipython",
    "version": 3
   },
   "file_extension": ".py",
   "mimetype": "text/x-python",
   "name": "python",
   "nbconvert_exporter": "python",
   "pygments_lexer": "ipython3",
   "version": "3.9.7"
  }
 },
 "nbformat": 4,
 "nbformat_minor": 5
}
