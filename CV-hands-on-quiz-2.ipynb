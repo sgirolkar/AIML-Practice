{
 "cells": [
  {
   "cell_type": "code",
   "execution_count": 1,
   "id": "7d15b9fb-26af-4377-8bbe-0d02a8ac4d5b",
   "metadata": {},
   "outputs": [
    {
     "data": {
      "application/javascript": [
       "\n",
       "            setTimeout(function() {\n",
       "                var nbb_cell_id = 1;\n",
       "                var nbb_unformatted_code = \"%load_ext nb_black\";\n",
       "                var nbb_formatted_code = \"%load_ext nb_black\";\n",
       "                var nbb_cells = Jupyter.notebook.get_cells();\n",
       "                for (var i = 0; i < nbb_cells.length; ++i) {\n",
       "                    if (nbb_cells[i].input_prompt_number == nbb_cell_id) {\n",
       "                        if (nbb_cells[i].get_text() == nbb_unformatted_code) {\n",
       "                             nbb_cells[i].set_text(nbb_formatted_code);\n",
       "                        }\n",
       "                        break;\n",
       "                    }\n",
       "                }\n",
       "            }, 500);\n",
       "            "
      ],
      "text/plain": [
       "<IPython.core.display.Javascript object>"
      ]
     },
     "metadata": {},
     "output_type": "display_data"
    }
   ],
   "source": [
    "%load_ext nb_black"
   ]
  },
  {
   "cell_type": "code",
   "execution_count": 2,
   "id": "055f4e18-4ee7-4f08-9809-7ffab9902006",
   "metadata": {},
   "outputs": [
    {
     "data": {
      "application/javascript": [
       "\n",
       "            setTimeout(function() {\n",
       "                var nbb_cell_id = 2;\n",
       "                var nbb_unformatted_code = \"import cv2\\nfrom matplotlib import pyplot as plt\\nimport seaborn as sns\\n# %tensorflow_version 2.x\\nimport tensorflow\\n# tensorflow.__version__\\nimport random\\n\\nfrom sklearn import preprocessing\\nfrom sklearn.utils import class_weight\\nfrom sklearn.preprocessing import StandardScaler, LabelEncoder\\nfrom sklearn.metrics import (\\n    accuracy_score, \\n    confusion_matrix, \\n    precision_score, \\n    recall_score, \\n    f1_score\\n)\\nimport tensorflow as tf\\nfrom keras import callbacks\\n\\n# Ignore the warnings\\nimport warnings\\nwarnings.filterwarnings(\\\"ignore\\\")\";\n",
       "                var nbb_formatted_code = \"import cv2\\nfrom matplotlib import pyplot as plt\\nimport seaborn as sns\\n\\n# %tensorflow_version 2.x\\nimport tensorflow\\n\\n# tensorflow.__version__\\nimport random\\n\\nfrom sklearn import preprocessing\\nfrom sklearn.utils import class_weight\\nfrom sklearn.preprocessing import StandardScaler, LabelEncoder\\nfrom sklearn.metrics import (\\n    accuracy_score,\\n    confusion_matrix,\\n    precision_score,\\n    recall_score,\\n    f1_score,\\n)\\nimport tensorflow as tf\\nfrom keras import callbacks\\n\\n# Ignore the warnings\\nimport warnings\\n\\nwarnings.filterwarnings(\\\"ignore\\\")\";\n",
       "                var nbb_cells = Jupyter.notebook.get_cells();\n",
       "                for (var i = 0; i < nbb_cells.length; ++i) {\n",
       "                    if (nbb_cells[i].input_prompt_number == nbb_cell_id) {\n",
       "                        if (nbb_cells[i].get_text() == nbb_unformatted_code) {\n",
       "                             nbb_cells[i].set_text(nbb_formatted_code);\n",
       "                        }\n",
       "                        break;\n",
       "                    }\n",
       "                }\n",
       "            }, 500);\n",
       "            "
      ],
      "text/plain": [
       "<IPython.core.display.Javascript object>"
      ]
     },
     "metadata": {},
     "output_type": "display_data"
    }
   ],
   "source": [
    "import cv2\n",
    "from matplotlib import pyplot as plt\n",
    "import seaborn as sns\n",
    "# %tensorflow_version 2.x\n",
    "import tensorflow\n",
    "# tensorflow.__version__\n",
    "import random\n",
    "\n",
    "from sklearn import preprocessing\n",
    "from sklearn.utils import class_weight\n",
    "from sklearn.preprocessing import StandardScaler, LabelEncoder\n",
    "from sklearn.metrics import (\n",
    "    accuracy_score, \n",
    "    confusion_matrix, \n",
    "    precision_score, \n",
    "    recall_score, \n",
    "    f1_score\n",
    ")\n",
    "import tensorflow as tf\n",
    "from keras import callbacks\n",
    "\n",
    "# Ignore the warnings\n",
    "import warnings\n",
    "warnings.filterwarnings(\"ignore\")"
   ]
  },
  {
   "cell_type": "code",
   "execution_count": 3,
   "id": "434e62b6-6227-489e-ab65-38a48b251daf",
   "metadata": {},
   "outputs": [
    {
     "data": {
      "application/javascript": [
       "\n",
       "            setTimeout(function() {\n",
       "                var nbb_cell_id = 3;\n",
       "                var nbb_unformatted_code = \"# Initialize the random number generator\\nrandom.seed(1)\";\n",
       "                var nbb_formatted_code = \"# Initialize the random number generator\\nrandom.seed(1)\";\n",
       "                var nbb_cells = Jupyter.notebook.get_cells();\n",
       "                for (var i = 0; i < nbb_cells.length; ++i) {\n",
       "                    if (nbb_cells[i].input_prompt_number == nbb_cell_id) {\n",
       "                        if (nbb_cells[i].get_text() == nbb_unformatted_code) {\n",
       "                             nbb_cells[i].set_text(nbb_formatted_code);\n",
       "                        }\n",
       "                        break;\n",
       "                    }\n",
       "                }\n",
       "            }, 500);\n",
       "            "
      ],
      "text/plain": [
       "<IPython.core.display.Javascript object>"
      ]
     },
     "metadata": {},
     "output_type": "display_data"
    }
   ],
   "source": [
    "# Initialize the random number generator\n",
    "random.seed(1)"
   ]
  },
  {
   "cell_type": "code",
   "execution_count": 4,
   "id": "68b3543d-0847-4ab7-8162-4cf4316f9e7e",
   "metadata": {},
   "outputs": [
    {
     "data": {
      "application/javascript": [
       "\n",
       "            setTimeout(function() {\n",
       "                var nbb_cell_id = 4;\n",
       "                var nbb_unformatted_code = \"from tensorflow.keras.models import Sequential      # Sequential groups a linear stack of layers into a tf.keras.Model.\\nfrom tensorflow.keras.layers import Conv2D          # This layer creates a convolution kernel that is convolved \\n                                                    # with the layer input to produce a tensor of outputs.\\nfrom tensorflow.keras.layers import MaxPooling2D    # Max pooling operation for 2D spatial data.\\nfrom tensorflow.keras.layers import Flatten         # Flattens the input. Does not affect the batch size.\\nfrom tensorflow.keras.layers import Dense, Dropout  # Dropout: Applies Dropout to the input.\\n                                                    # Dense: Just your regular densely-connected NN layer.\\nfrom tensorflow.keras.layers import BatchNormalization\\nfrom tensorflow.keras.optimizers import Adam\";\n",
       "                var nbb_formatted_code = \"from tensorflow.keras.models import (\\n    Sequential,\\n)  # Sequential groups a linear stack of layers into a tf.keras.Model.\\nfrom tensorflow.keras.layers import (\\n    Conv2D,\\n)  # This layer creates a convolution kernel that is convolved\\n\\n# with the layer input to produce a tensor of outputs.\\nfrom tensorflow.keras.layers import (\\n    MaxPooling2D,\\n)  # Max pooling operation for 2D spatial data.\\nfrom tensorflow.keras.layers import (\\n    Flatten,\\n)  # Flattens the input. Does not affect the batch size.\\nfrom tensorflow.keras.layers import (\\n    Dense,\\n    Dropout,\\n)  # Dropout: Applies Dropout to the input.\\n\\n# Dense: Just your regular densely-connected NN layer.\\nfrom tensorflow.keras.layers import BatchNormalization\\nfrom tensorflow.keras.optimizers import Adam\";\n",
       "                var nbb_cells = Jupyter.notebook.get_cells();\n",
       "                for (var i = 0; i < nbb_cells.length; ++i) {\n",
       "                    if (nbb_cells[i].input_prompt_number == nbb_cell_id) {\n",
       "                        if (nbb_cells[i].get_text() == nbb_unformatted_code) {\n",
       "                             nbb_cells[i].set_text(nbb_formatted_code);\n",
       "                        }\n",
       "                        break;\n",
       "                    }\n",
       "                }\n",
       "            }, 500);\n",
       "            "
      ],
      "text/plain": [
       "<IPython.core.display.Javascript object>"
      ]
     },
     "metadata": {},
     "output_type": "display_data"
    }
   ],
   "source": [
    "from tensorflow.keras.models import Sequential      # Sequential groups a linear stack of layers into a tf.keras.Model.\n",
    "from tensorflow.keras.layers import Conv2D          # This layer creates a convolution kernel that is convolved \n",
    "                                                    # with the layer input to produce a tensor of outputs.\n",
    "from tensorflow.keras.layers import MaxPooling2D    # Max pooling operation for 2D spatial data.\n",
    "from tensorflow.keras.layers import Flatten         # Flattens the input. Does not affect the batch size.\n",
    "from tensorflow.keras.layers import Dense, Dropout  # Dropout: Applies Dropout to the input.\n",
    "                                                    # Dense: Just your regular densely-connected NN layer.\n",
    "from tensorflow.keras.layers import BatchNormalization\n",
    "from tensorflow.keras.optimizers import Adam"
   ]
  },
  {
   "cell_type": "code",
   "execution_count": 5,
   "id": "c2a2141a-30b5-4a4f-87b3-c1d8fa94c17b",
   "metadata": {},
   "outputs": [
    {
     "data": {
      "application/javascript": [
       "\n",
       "            setTimeout(function() {\n",
       "                var nbb_cell_id = 5;\n",
       "                var nbb_unformatted_code = \"import numpy as np                               # Import numpy\\nfrom skimage import data, io                     # Import skimage library (data - Test images and example data.\\n                                                 #                          io - Reading, saving, and displaying images.) \\nimport matplotlib.pyplot as plt                  # Import matplotlib.pyplot (Plotting framework in Python.)\\n\\nimport os                                        # This module provides a portable way of using operating system dependent functionality.\\nos.environ['TF_CPP_MIN_LOG_LEVEL'] = '3' \";\n",
       "                var nbb_formatted_code = \"import numpy as np  # Import numpy\\nfrom skimage import (\\n    data,\\n    io,\\n)  # Import skimage library (data - Test images and example data.\\n\\n#                          io - Reading, saving, and displaying images.)\\nimport matplotlib.pyplot as plt  # Import matplotlib.pyplot (Plotting framework in Python.)\\n\\nimport os  # This module provides a portable way of using operating system dependent functionality.\\n\\nos.environ[\\\"TF_CPP_MIN_LOG_LEVEL\\\"] = \\\"3\\\"\";\n",
       "                var nbb_cells = Jupyter.notebook.get_cells();\n",
       "                for (var i = 0; i < nbb_cells.length; ++i) {\n",
       "                    if (nbb_cells[i].input_prompt_number == nbb_cell_id) {\n",
       "                        if (nbb_cells[i].get_text() == nbb_unformatted_code) {\n",
       "                             nbb_cells[i].set_text(nbb_formatted_code);\n",
       "                        }\n",
       "                        break;\n",
       "                    }\n",
       "                }\n",
       "            }, 500);\n",
       "            "
      ],
      "text/plain": [
       "<IPython.core.display.Javascript object>"
      ]
     },
     "metadata": {},
     "output_type": "display_data"
    }
   ],
   "source": [
    "import numpy as np                               # Import numpy\n",
    "from skimage import data, io                     # Import skimage library (data - Test images and example data.\n",
    "                                                 #                          io - Reading, saving, and displaying images.) \n",
    "import matplotlib.pyplot as plt                  # Import matplotlib.pyplot (Plotting framework in Python.)\n",
    "\n",
    "import os                                        # This module provides a portable way of using operating system dependent functionality.\n",
    "os.environ['TF_CPP_MIN_LOG_LEVEL'] = '3' "
   ]
  },
  {
   "cell_type": "code",
   "execution_count": 6,
   "id": "b97d93da-0420-4e5e-9811-2234aca5f5da",
   "metadata": {},
   "outputs": [
    {
     "data": {
      "application/javascript": [
       "\n",
       "            setTimeout(function() {\n",
       "                var nbb_cell_id = 6;\n",
       "                var nbb_unformatted_code = \"# # From  https://www.tensorflow.org/tutorials/load_data/images\\n\\nimport numpy as np\\nimport os\\nimport PIL\\nimport PIL.Image\\nimport tensorflow as tf\\nimport tensorflow_datasets as tfds\\nimport pathlib\";\n",
       "                var nbb_formatted_code = \"# # From  https://www.tensorflow.org/tutorials/load_data/images\\n\\nimport numpy as np\\nimport os\\nimport PIL\\nimport PIL.Image\\nimport tensorflow as tf\\nimport tensorflow_datasets as tfds\\nimport pathlib\";\n",
       "                var nbb_cells = Jupyter.notebook.get_cells();\n",
       "                for (var i = 0; i < nbb_cells.length; ++i) {\n",
       "                    if (nbb_cells[i].input_prompt_number == nbb_cell_id) {\n",
       "                        if (nbb_cells[i].get_text() == nbb_unformatted_code) {\n",
       "                             nbb_cells[i].set_text(nbb_formatted_code);\n",
       "                        }\n",
       "                        break;\n",
       "                    }\n",
       "                }\n",
       "            }, 500);\n",
       "            "
      ],
      "text/plain": [
       "<IPython.core.display.Javascript object>"
      ]
     },
     "metadata": {},
     "output_type": "display_data"
    }
   ],
   "source": [
    "# # From  https://www.tensorflow.org/tutorials/load_data/images\n",
    "\n",
    "import numpy as np\n",
    "import os\n",
    "import PIL\n",
    "import PIL.Image\n",
    "import tensorflow as tf\n",
    "import tensorflow_datasets as tfds\n",
    "import pathlib"
   ]
  },
  {
   "cell_type": "code",
   "execution_count": 7,
   "id": "ac5da5a7-8cdb-4c65-b7aa-3f8c217e2bf4",
   "metadata": {},
   "outputs": [
    {
     "name": "stdout",
     "output_type": "stream",
     "text": [
      "/Users/sgirolkar/.keras/datasets/shapes.tar.gz\n",
      "/Users/sgirolkar/.keras/datasets/shapes\n",
      "300\n"
     ]
    },
    {
     "data": {
      "application/javascript": [
       "\n",
       "            setTimeout(function() {\n",
       "                var nbb_cell_id = 7;\n",
       "                var nbb_unformatted_code = \"ds_url = \\\"https://olympus.mygreatlearning.com/courses/58531/files/4929964/download?verifier=c1Lp5f9eeJnuid9kIt5ZNXzhuTnPYJHJSAOgKr0B&wrap=1\\\"\\ndata_zip = tf.keras.utils.get_file(\\n    origin=ds_url, fname='shapes.tar.gz', extract=True, \\n)\\nprint(data_zip)\\ndata_dir = pathlib.Path(data_zip.replace(\\\".tar.gz\\\", \\\"\\\"))\\nprint(data_dir)\\nimage_count = len(list(data_dir.glob('*/*/*.png')))\\nprint(image_count)\";\n",
       "                var nbb_formatted_code = \"ds_url = \\\"https://olympus.mygreatlearning.com/courses/58531/files/4929964/download?verifier=c1Lp5f9eeJnuid9kIt5ZNXzhuTnPYJHJSAOgKr0B&wrap=1\\\"\\ndata_zip = tf.keras.utils.get_file(\\n    origin=ds_url,\\n    fname=\\\"shapes.tar.gz\\\",\\n    extract=True,\\n)\\nprint(data_zip)\\ndata_dir = pathlib.Path(data_zip.replace(\\\".tar.gz\\\", \\\"\\\"))\\nprint(data_dir)\\nimage_count = len(list(data_dir.glob(\\\"*/*/*.png\\\")))\\nprint(image_count)\";\n",
       "                var nbb_cells = Jupyter.notebook.get_cells();\n",
       "                for (var i = 0; i < nbb_cells.length; ++i) {\n",
       "                    if (nbb_cells[i].input_prompt_number == nbb_cell_id) {\n",
       "                        if (nbb_cells[i].get_text() == nbb_unformatted_code) {\n",
       "                             nbb_cells[i].set_text(nbb_formatted_code);\n",
       "                        }\n",
       "                        break;\n",
       "                    }\n",
       "                }\n",
       "            }, 500);\n",
       "            "
      ],
      "text/plain": [
       "<IPython.core.display.Javascript object>"
      ]
     },
     "metadata": {},
     "output_type": "display_data"
    }
   ],
   "source": [
    "ds_url = \"https://olympus.mygreatlearning.com/courses/58531/files/4929964/download?verifier=c1Lp5f9eeJnuid9kIt5ZNXzhuTnPYJHJSAOgKr0B&wrap=1\"\n",
    "data_zip = tf.keras.utils.get_file(\n",
    "    origin=ds_url, fname='shapes.tar.gz', extract=True, \n",
    ")\n",
    "print(data_zip)\n",
    "data_dir = pathlib.Path(data_zip.replace(\".tar.gz\", \"\"))\n",
    "print(data_dir)\n",
    "image_count = len(list(data_dir.glob('*/*/*.png')))\n",
    "print(image_count)\n"
   ]
  },
  {
   "cell_type": "code",
   "execution_count": 8,
   "id": "7e4f7e23-c1a9-411a-83d3-5b5a489540ea",
   "metadata": {},
   "outputs": [
    {
     "data": {
      "application/javascript": [
       "\n",
       "            setTimeout(function() {\n",
       "                var nbb_cell_id = 8;\n",
       "                var nbb_unformatted_code = \"def get_label(file_path):\\n  # Convert the path to a list of path components\\n  parts = tf.strings.split(file_path, os.path.sep)\\n  # The second to last is the class-directory\\n  one_hot = parts[-2] == class_names\\n  # Integer encode the label\\n  return tf.argmax(one_hot)\";\n",
       "                var nbb_formatted_code = \"def get_label(file_path):\\n    # Convert the path to a list of path components\\n    parts = tf.strings.split(file_path, os.path.sep)\\n    # The second to last is the class-directory\\n    one_hot = parts[-2] == class_names\\n    # Integer encode the label\\n    return tf.argmax(one_hot)\";\n",
       "                var nbb_cells = Jupyter.notebook.get_cells();\n",
       "                for (var i = 0; i < nbb_cells.length; ++i) {\n",
       "                    if (nbb_cells[i].input_prompt_number == nbb_cell_id) {\n",
       "                        if (nbb_cells[i].get_text() == nbb_unformatted_code) {\n",
       "                             nbb_cells[i].set_text(nbb_formatted_code);\n",
       "                        }\n",
       "                        break;\n",
       "                    }\n",
       "                }\n",
       "            }, 500);\n",
       "            "
      ],
      "text/plain": [
       "<IPython.core.display.Javascript object>"
      ]
     },
     "metadata": {},
     "output_type": "display_data"
    }
   ],
   "source": [
    "def get_label(file_path):\n",
    "  # Convert the path to a list of path components\n",
    "  parts = tf.strings.split(file_path, os.path.sep)\n",
    "  # The second to last is the class-directory\n",
    "  one_hot = parts[-2] == class_names\n",
    "  # Integer encode the label\n",
    "  return tf.argmax(one_hot)"
   ]
  },
  {
   "cell_type": "code",
   "execution_count": 9,
   "id": "b2e26d7d-98e5-446b-aeec-f648bfea054f",
   "metadata": {},
   "outputs": [
    {
     "data": {
      "application/javascript": [
       "\n",
       "            setTimeout(function() {\n",
       "                var nbb_cell_id = 9;\n",
       "                var nbb_unformatted_code = \"def decode_img(img):\\n  # Convert the compressed string to a 3D uint8 tensor\\n  img = tf.io.decode_jpeg(img, channels=3)\\n  # Resize the image to the desired size\\n  return tf.image.resize(img, [img_height, img_width])\";\n",
       "                var nbb_formatted_code = \"def decode_img(img):\\n    # Convert the compressed string to a 3D uint8 tensor\\n    img = tf.io.decode_jpeg(img, channels=3)\\n    # Resize the image to the desired size\\n    return tf.image.resize(img, [img_height, img_width])\";\n",
       "                var nbb_cells = Jupyter.notebook.get_cells();\n",
       "                for (var i = 0; i < nbb_cells.length; ++i) {\n",
       "                    if (nbb_cells[i].input_prompt_number == nbb_cell_id) {\n",
       "                        if (nbb_cells[i].get_text() == nbb_unformatted_code) {\n",
       "                             nbb_cells[i].set_text(nbb_formatted_code);\n",
       "                        }\n",
       "                        break;\n",
       "                    }\n",
       "                }\n",
       "            }, 500);\n",
       "            "
      ],
      "text/plain": [
       "<IPython.core.display.Javascript object>"
      ]
     },
     "metadata": {},
     "output_type": "display_data"
    }
   ],
   "source": [
    "def decode_img(img):\n",
    "  # Convert the compressed string to a 3D uint8 tensor\n",
    "  img = tf.io.decode_jpeg(img, channels=3)\n",
    "  # Resize the image to the desired size\n",
    "  return tf.image.resize(img, [img_height, img_width])"
   ]
  },
  {
   "cell_type": "code",
   "execution_count": 10,
   "id": "e9398313-1245-4653-9203-1f08a2484bc4",
   "metadata": {},
   "outputs": [
    {
     "data": {
      "application/javascript": [
       "\n",
       "            setTimeout(function() {\n",
       "                var nbb_cell_id = 10;\n",
       "                var nbb_unformatted_code = \"def process_path(file_path):\\n  label = get_label(file_path)\\n  # Load the raw data from the file as a string\\n  img = tf.io.read_file(file_path)\\n  img = decode_img(img)\\n  return img, label\";\n",
       "                var nbb_formatted_code = \"def process_path(file_path):\\n    label = get_label(file_path)\\n    # Load the raw data from the file as a string\\n    img = tf.io.read_file(file_path)\\n    img = decode_img(img)\\n    return img, label\";\n",
       "                var nbb_cells = Jupyter.notebook.get_cells();\n",
       "                for (var i = 0; i < nbb_cells.length; ++i) {\n",
       "                    if (nbb_cells[i].input_prompt_number == nbb_cell_id) {\n",
       "                        if (nbb_cells[i].get_text() == nbb_unformatted_code) {\n",
       "                             nbb_cells[i].set_text(nbb_formatted_code);\n",
       "                        }\n",
       "                        break;\n",
       "                    }\n",
       "                }\n",
       "            }, 500);\n",
       "            "
      ],
      "text/plain": [
       "<IPython.core.display.Javascript object>"
      ]
     },
     "metadata": {},
     "output_type": "display_data"
    }
   ],
   "source": [
    "def process_path(file_path):\n",
    "  label = get_label(file_path)\n",
    "  # Load the raw data from the file as a string\n",
    "  img = tf.io.read_file(file_path)\n",
    "  img = decode_img(img)\n",
    "  return img, label"
   ]
  },
  {
   "cell_type": "code",
   "execution_count": 11,
   "id": "b9157696-eb4b-474e-b8c2-76579e2d9412",
   "metadata": {},
   "outputs": [
    {
     "data": {
      "application/javascript": [
       "\n",
       "            setTimeout(function() {\n",
       "                var nbb_cell_id = 11;\n",
       "                var nbb_unformatted_code = \"batch_size = 32\\nimg_height = 28\\nimg_width = 28\";\n",
       "                var nbb_formatted_code = \"batch_size = 32\\nimg_height = 28\\nimg_width = 28\";\n",
       "                var nbb_cells = Jupyter.notebook.get_cells();\n",
       "                for (var i = 0; i < nbb_cells.length; ++i) {\n",
       "                    if (nbb_cells[i].input_prompt_number == nbb_cell_id) {\n",
       "                        if (nbb_cells[i].get_text() == nbb_unformatted_code) {\n",
       "                             nbb_cells[i].set_text(nbb_formatted_code);\n",
       "                        }\n",
       "                        break;\n",
       "                    }\n",
       "                }\n",
       "            }, 500);\n",
       "            "
      ],
      "text/plain": [
       "<IPython.core.display.Javascript object>"
      ]
     },
     "metadata": {},
     "output_type": "display_data"
    }
   ],
   "source": [
    "batch_size = 32\n",
    "img_height = 28\n",
    "img_width = 28"
   ]
  },
  {
   "cell_type": "code",
   "execution_count": 12,
   "id": "ca4cc54b-f36a-4406-8dab-e74c5660fde5",
   "metadata": {},
   "outputs": [
    {
     "name": "stdout",
     "output_type": "stream",
     "text": [
      "Found 240 files belonging to 3 classes.\n"
     ]
    },
    {
     "data": {
      "application/javascript": [
       "\n",
       "            setTimeout(function() {\n",
       "                var nbb_cell_id = 12;\n",
       "                var nbb_unformatted_code = \"train_ds = tf.keras.utils.image_dataset_from_directory(\\n    f\\\"{data_dir}/Training\\\",\\n    # validation_split=0.0,\\n    # subset=\\\"training\\\",\\n    seed=123,\\n    image_size=(img_height, img_width),\\n    batch_size=batch_size,\\n    label_mode=\\\"categorical\\\"\\n)   \";\n",
       "                var nbb_formatted_code = \"train_ds = tf.keras.utils.image_dataset_from_directory(\\n    f\\\"{data_dir}/Training\\\",\\n    # validation_split=0.0,\\n    # subset=\\\"training\\\",\\n    seed=123,\\n    image_size=(img_height, img_width),\\n    batch_size=batch_size,\\n    label_mode=\\\"categorical\\\",\\n)\";\n",
       "                var nbb_cells = Jupyter.notebook.get_cells();\n",
       "                for (var i = 0; i < nbb_cells.length; ++i) {\n",
       "                    if (nbb_cells[i].input_prompt_number == nbb_cell_id) {\n",
       "                        if (nbb_cells[i].get_text() == nbb_unformatted_code) {\n",
       "                             nbb_cells[i].set_text(nbb_formatted_code);\n",
       "                        }\n",
       "                        break;\n",
       "                    }\n",
       "                }\n",
       "            }, 500);\n",
       "            "
      ],
      "text/plain": [
       "<IPython.core.display.Javascript object>"
      ]
     },
     "metadata": {},
     "output_type": "display_data"
    }
   ],
   "source": [
    "train_ds = tf.keras.utils.image_dataset_from_directory(\n",
    "    f\"{data_dir}/Training\",\n",
    "    # validation_split=0.0,\n",
    "    # subset=\"training\",\n",
    "    seed=123,\n",
    "    image_size=(img_height, img_width),\n",
    "    batch_size=batch_size,\n",
    "    label_mode=\"categorical\"\n",
    ")   "
   ]
  },
  {
   "cell_type": "code",
   "execution_count": 13,
   "id": "fff99f9f-3245-47d0-8e2f-49b765cb2389",
   "metadata": {},
   "outputs": [
    {
     "name": "stdout",
     "output_type": "stream",
     "text": [
      "Found 60 files belonging to 3 classes.\n"
     ]
    },
    {
     "data": {
      "application/javascript": [
       "\n",
       "            setTimeout(function() {\n",
       "                var nbb_cell_id = 13;\n",
       "                var nbb_unformatted_code = \"val_ds = tf.keras.utils.image_dataset_from_directory(\\n  f\\\"{data_dir}/Testing\\\",\\n  # validation_split=0.0,\\n  # subset=\\\"validation\\\",\\n  seed=123,\\n  image_size=(img_height, img_width),\\n  batch_size=batch_size,\\n  label_mode=\\\"categorical\\\"\\n)\";\n",
       "                var nbb_formatted_code = \"val_ds = tf.keras.utils.image_dataset_from_directory(\\n    f\\\"{data_dir}/Testing\\\",\\n    # validation_split=0.0,\\n    # subset=\\\"validation\\\",\\n    seed=123,\\n    image_size=(img_height, img_width),\\n    batch_size=batch_size,\\n    label_mode=\\\"categorical\\\",\\n)\";\n",
       "                var nbb_cells = Jupyter.notebook.get_cells();\n",
       "                for (var i = 0; i < nbb_cells.length; ++i) {\n",
       "                    if (nbb_cells[i].input_prompt_number == nbb_cell_id) {\n",
       "                        if (nbb_cells[i].get_text() == nbb_unformatted_code) {\n",
       "                             nbb_cells[i].set_text(nbb_formatted_code);\n",
       "                        }\n",
       "                        break;\n",
       "                    }\n",
       "                }\n",
       "            }, 500);\n",
       "            "
      ],
      "text/plain": [
       "<IPython.core.display.Javascript object>"
      ]
     },
     "metadata": {},
     "output_type": "display_data"
    }
   ],
   "source": [
    "val_ds = tf.keras.utils.image_dataset_from_directory(\n",
    "  f\"{data_dir}/Testing\",\n",
    "  # validation_split=0.0,\n",
    "  # subset=\"validation\",\n",
    "  seed=123,\n",
    "  image_size=(img_height, img_width),\n",
    "  batch_size=batch_size,\n",
    "  label_mode=\"categorical\"\n",
    ")"
   ]
  },
  {
   "cell_type": "code",
   "execution_count": 14,
   "id": "c3b4c640-9d3d-4282-8abb-6aaa212f284e",
   "metadata": {},
   "outputs": [
    {
     "name": "stdout",
     "output_type": "stream",
     "text": [
      "['circles', 'squares', 'triangles']\n"
     ]
    },
    {
     "data": {
      "application/javascript": [
       "\n",
       "            setTimeout(function() {\n",
       "                var nbb_cell_id = 14;\n",
       "                var nbb_unformatted_code = \"class_names = train_ds.class_names\\nprint(class_names)\";\n",
       "                var nbb_formatted_code = \"class_names = train_ds.class_names\\nprint(class_names)\";\n",
       "                var nbb_cells = Jupyter.notebook.get_cells();\n",
       "                for (var i = 0; i < nbb_cells.length; ++i) {\n",
       "                    if (nbb_cells[i].input_prompt_number == nbb_cell_id) {\n",
       "                        if (nbb_cells[i].get_text() == nbb_unformatted_code) {\n",
       "                             nbb_cells[i].set_text(nbb_formatted_code);\n",
       "                        }\n",
       "                        break;\n",
       "                    }\n",
       "                }\n",
       "            }, 500);\n",
       "            "
      ],
      "text/plain": [
       "<IPython.core.display.Javascript object>"
      ]
     },
     "metadata": {},
     "output_type": "display_data"
    }
   ],
   "source": [
    "class_names = train_ds.class_names\n",
    "print(class_names)"
   ]
  },
  {
   "cell_type": "code",
   "execution_count": 59,
   "id": "1a8d7a5a-0712-44b9-a64e-4f183e00f104",
   "metadata": {},
   "outputs": [
    {
     "data": {
      "image/png": "[encoded data removed]",
      "text/plain": [
       "<Figure size 720x720 with 9 Axes>"
      ]
     },
     "metadata": {
      "needs_background": "light"
     },
     "output_type": "display_data"
    },
    {
     "data": {
      "application/javascript": [
       "\n",
       "            setTimeout(function() {\n",
       "                var nbb_cell_id = 59;\n",
       "                var nbb_unformatted_code = \"import matplotlib.pyplot as plt\\n\\nplt.figure(figsize=(10, 10))\\nfor images, labels in train_ds.take(1):\\n    for i in range(9):\\n        lb = list(labels[i])\\n        cls_lb = class_names[lb.index(1)]\\n        ax = plt.subplot(3, 3, i + 1)\\n        plt.imshow(images[i].numpy().astype(\\\"uint8\\\"))    \\n        plt.title(cls_lb)\\n        plt.axis(\\\"off\\\")\";\n",
       "                var nbb_formatted_code = \"import matplotlib.pyplot as plt\\n\\nplt.figure(figsize=(10, 10))\\nfor images, labels in train_ds.take(1):\\n    for i in range(9):\\n        lb = list(labels[i])\\n        cls_lb = class_names[lb.index(1)]\\n        ax = plt.subplot(3, 3, i + 1)\\n        plt.imshow(images[i].numpy().astype(\\\"uint8\\\"))\\n        plt.title(cls_lb)\\n        plt.axis(\\\"off\\\")\";\n",
       "                var nbb_cells = Jupyter.notebook.get_cells();\n",
       "                for (var i = 0; i < nbb_cells.length; ++i) {\n",
       "                    if (nbb_cells[i].input_prompt_number == nbb_cell_id) {\n",
       "                        if (nbb_cells[i].get_text() == nbb_unformatted_code) {\n",
       "                             nbb_cells[i].set_text(nbb_formatted_code);\n",
       "                        }\n",
       "                        break;\n",
       "                    }\n",
       "                }\n",
       "            }, 500);\n",
       "            "
      ],
      "text/plain": [
       "<IPython.core.display.Javascript object>"
      ]
     },
     "metadata": {},
     "output_type": "display_data"
    }
   ],
   "source": [
    "import matplotlib.pyplot as plt\n",
    "\n",
    "plt.figure(figsize=(10, 10))\n",
    "for images, labels in train_ds.take(1):\n",
    "    for i in range(9):\n",
    "        lb = list(labels[i])\n",
    "        cls_lb = class_names[lb.index(1)]\n",
    "        ax = plt.subplot(3, 3, i + 1)\n",
    "        plt.imshow(images[i].numpy().astype(\"uint8\"))    \n",
    "        plt.title(cls_lb)\n",
    "        plt.axis(\"off\")"
   ]
  },
  {
   "cell_type": "code",
   "execution_count": 16,
   "id": "1ecd6e3c-df40-40fc-a43e-cddbc6171a52",
   "metadata": {},
   "outputs": [
    {
     "data": {
      "application/javascript": [
       "\n",
       "            setTimeout(function() {\n",
       "                var nbb_cell_id = 16;\n",
       "                var nbb_unformatted_code = \"normalization_layer = tf.keras.layers.Rescaling(1./255)\";\n",
       "                var nbb_formatted_code = \"normalization_layer = tf.keras.layers.Rescaling(1.0 / 255)\";\n",
       "                var nbb_cells = Jupyter.notebook.get_cells();\n",
       "                for (var i = 0; i < nbb_cells.length; ++i) {\n",
       "                    if (nbb_cells[i].input_prompt_number == nbb_cell_id) {\n",
       "                        if (nbb_cells[i].get_text() == nbb_unformatted_code) {\n",
       "                             nbb_cells[i].set_text(nbb_formatted_code);\n",
       "                        }\n",
       "                        break;\n",
       "                    }\n",
       "                }\n",
       "            }, 500);\n",
       "            "
      ],
      "text/plain": [
       "<IPython.core.display.Javascript object>"
      ]
     },
     "metadata": {},
     "output_type": "display_data"
    }
   ],
   "source": [
    "normalization_layer = tf.keras.layers.Rescaling(1./255)"
   ]
  },
  {
   "cell_type": "code",
   "execution_count": 17,
   "id": "dc1d14d8-a1e0-4494-afe4-1a23f912a24e",
   "metadata": {},
   "outputs": [
    {
     "name": "stdout",
     "output_type": "stream",
     "text": [
      "0.19215688 1.0\n"
     ]
    },
    {
     "data": {
      "application/javascript": [
       "\n",
       "            setTimeout(function() {\n",
       "                var nbb_cell_id = 17;\n",
       "                var nbb_unformatted_code = \"normalized_ds = train_ds.map(lambda x, y: (normalization_layer(x), y))\\nnormalized_val_ds = val_ds.map(lambda x, y: (normalization_layer(x), y))\\n\\nimage_batch, labels_batch = next(iter(normalized_ds))\\nfirst_image = image_batch[0]\\n# Notice the pixel values are now in `[0,1]`.\\nprint(np.min(first_image), np.max(first_image))\";\n",
       "                var nbb_formatted_code = \"normalized_ds = train_ds.map(lambda x, y: (normalization_layer(x), y))\\nnormalized_val_ds = val_ds.map(lambda x, y: (normalization_layer(x), y))\\n\\nimage_batch, labels_batch = next(iter(normalized_ds))\\nfirst_image = image_batch[0]\\n# Notice the pixel values are now in `[0,1]`.\\nprint(np.min(first_image), np.max(first_image))\";\n",
       "                var nbb_cells = Jupyter.notebook.get_cells();\n",
       "                for (var i = 0; i < nbb_cells.length; ++i) {\n",
       "                    if (nbb_cells[i].input_prompt_number == nbb_cell_id) {\n",
       "                        if (nbb_cells[i].get_text() == nbb_unformatted_code) {\n",
       "                             nbb_cells[i].set_text(nbb_formatted_code);\n",
       "                        }\n",
       "                        break;\n",
       "                    }\n",
       "                }\n",
       "            }, 500);\n",
       "            "
      ],
      "text/plain": [
       "<IPython.core.display.Javascript object>"
      ]
     },
     "metadata": {},
     "output_type": "display_data"
    }
   ],
   "source": [
    "normalized_ds = train_ds.map(lambda x, y: (normalization_layer(x), y))\n",
    "normalized_val_ds = val_ds.map(lambda x, y: (normalization_layer(x), y))\n",
    "\n",
    "image_batch, labels_batch = next(iter(normalized_ds))\n",
    "first_image = image_batch[0]\n",
    "# Notice the pixel values are now in `[0,1]`.\n",
    "print(np.min(first_image), np.max(first_image))"
   ]
  },
  {
   "cell_type": "code",
   "execution_count": 18,
   "id": "10a48cfd-6cfc-4ec8-a459-cb8d3771184d",
   "metadata": {},
   "outputs": [
    {
     "data": {
      "application/javascript": [
       "\n",
       "            setTimeout(function() {\n",
       "                var nbb_cell_id = 18;\n",
       "                var nbb_unformatted_code = \"# AUTOTUNE = tf.data.AUTOTUNE\\n\\n# normalized_ds = normalized_ds.cache().prefetch(buffer_size=AUTOTUNE)\\n# normalized_val_ds = normalized_val_ds.cache().prefetch(buffer_size=AUTOTUNE)\";\n",
       "                var nbb_formatted_code = \"# AUTOTUNE = tf.data.AUTOTUNE\\n\\n# normalized_ds = normalized_ds.cache().prefetch(buffer_size=AUTOTUNE)\\n# normalized_val_ds = normalized_val_ds.cache().prefetch(buffer_size=AUTOTUNE)\";\n",
       "                var nbb_cells = Jupyter.notebook.get_cells();\n",
       "                for (var i = 0; i < nbb_cells.length; ++i) {\n",
       "                    if (nbb_cells[i].input_prompt_number == nbb_cell_id) {\n",
       "                        if (nbb_cells[i].get_text() == nbb_unformatted_code) {\n",
       "                             nbb_cells[i].set_text(nbb_formatted_code);\n",
       "                        }\n",
       "                        break;\n",
       "                    }\n",
       "                }\n",
       "            }, 500);\n",
       "            "
      ],
      "text/plain": [
       "<IPython.core.display.Javascript object>"
      ]
     },
     "metadata": {},
     "output_type": "display_data"
    }
   ],
   "source": [
    "# AUTOTUNE = tf.data.AUTOTUNE\n",
    "\n",
    "# normalized_ds = normalized_ds.cache().prefetch(buffer_size=AUTOTUNE)\n",
    "# normalized_val_ds = normalized_val_ds.cache().prefetch(buffer_size=AUTOTUNE)"
   ]
  },
  {
   "cell_type": "code",
   "execution_count": null,
   "id": "494fc781-96bf-4a7c-8b76-9a71b04eb95f",
   "metadata": {},
   "outputs": [],
   "source": []
  },
  {
   "cell_type": "code",
   "execution_count": 19,
   "id": "d83c2acf-998d-40e6-a522-72b973ea14d2",
   "metadata": {},
   "outputs": [
    {
     "data": {
      "application/javascript": [
       "\n",
       "            setTimeout(function() {\n",
       "                var nbb_cell_id = 19;\n",
       "                var nbb_unformatted_code = \"# Initialising the CNN classifier\\nclassifier = Sequential()\\n\\n# Add a Convolution layer with 32 kernels of 3X3 shape with activation function ReLU\\nclassifier.add(Conv2D(32, (3, 3), input_shape = (28, 28, 3), activation = 'relu', padding = 'same'))\\n\\n# Add a Max Pooling layer of size 2X2\\nclassifier.add(MaxPooling2D(pool_size = (2, 2)))\\n\\n# Add another Convolution layer with 32 kernels of 3X3 shape with activation function ReLU\\nclassifier.add(Conv2D(32, (3, 3), activation = 'relu', padding = 'same'))\\n\\n# Adding another pooling layer\\nclassifier.add(MaxPooling2D(pool_size = (2, 2)))\\n\\n# Add another Convolution layer with 32 kernels of 3X3 shape with activation function ReLU\\nclassifier.add(Conv2D(32, (3, 3), activation = 'relu', padding = 'valid'))\\n\\n# Adding another pooling layer\\nclassifier.add(MaxPooling2D(pool_size = (2, 2)))\\n\\n# Flattening the layer before fully connected layers\\nclassifier.add(Flatten())\\n\\n# Adding a fully connected layer with 512 neurons\\nclassifier.add(Dense(units = 512, activation = 'relu'))\\n\\n# Adding dropout with probability 0.5\\nclassifier.add(Dropout(0.5))\\n\\n# Adding a fully connected layer with 128 neurons\\nclassifier.add(Dense(units = 128, activation = 'relu'))\\n\\n# The final output layer with 3 neurons to predict the categorical classifcation\\nclassifier.add(Dense(units = 3, activation = 'softmax'))\";\n",
       "                var nbb_formatted_code = \"# Initialising the CNN classifier\\nclassifier = Sequential()\\n\\n# Add a Convolution layer with 32 kernels of 3X3 shape with activation function ReLU\\nclassifier.add(\\n    Conv2D(32, (3, 3), input_shape=(28, 28, 3), activation=\\\"relu\\\", padding=\\\"same\\\")\\n)\\n\\n# Add a Max Pooling layer of size 2X2\\nclassifier.add(MaxPooling2D(pool_size=(2, 2)))\\n\\n# Add another Convolution layer with 32 kernels of 3X3 shape with activation function ReLU\\nclassifier.add(Conv2D(32, (3, 3), activation=\\\"relu\\\", padding=\\\"same\\\"))\\n\\n# Adding another pooling layer\\nclassifier.add(MaxPooling2D(pool_size=(2, 2)))\\n\\n# Add another Convolution layer with 32 kernels of 3X3 shape with activation function ReLU\\nclassifier.add(Conv2D(32, (3, 3), activation=\\\"relu\\\", padding=\\\"valid\\\"))\\n\\n# Adding another pooling layer\\nclassifier.add(MaxPooling2D(pool_size=(2, 2)))\\n\\n# Flattening the layer before fully connected layers\\nclassifier.add(Flatten())\\n\\n# Adding a fully connected layer with 512 neurons\\nclassifier.add(Dense(units=512, activation=\\\"relu\\\"))\\n\\n# Adding dropout with probability 0.5\\nclassifier.add(Dropout(0.5))\\n\\n# Adding a fully connected layer with 128 neurons\\nclassifier.add(Dense(units=128, activation=\\\"relu\\\"))\\n\\n# The final output layer with 3 neurons to predict the categorical classifcation\\nclassifier.add(Dense(units=3, activation=\\\"softmax\\\"))\";\n",
       "                var nbb_cells = Jupyter.notebook.get_cells();\n",
       "                for (var i = 0; i < nbb_cells.length; ++i) {\n",
       "                    if (nbb_cells[i].input_prompt_number == nbb_cell_id) {\n",
       "                        if (nbb_cells[i].get_text() == nbb_unformatted_code) {\n",
       "                             nbb_cells[i].set_text(nbb_formatted_code);\n",
       "                        }\n",
       "                        break;\n",
       "                    }\n",
       "                }\n",
       "            }, 500);\n",
       "            "
      ],
      "text/plain": [
       "<IPython.core.display.Javascript object>"
      ]
     },
     "metadata": {},
     "output_type": "display_data"
    }
   ],
   "source": [
    "# Initialising the CNN classifier\n",
    "classifier = Sequential()\n",
    "\n",
    "# Add a Convolution layer with 32 kernels of 3X3 shape with activation function ReLU\n",
    "classifier.add(Conv2D(32, (3, 3), input_shape = (28, 28, 3), activation = 'relu', padding = 'same'))\n",
    "\n",
    "# Add a Max Pooling layer of size 2X2\n",
    "classifier.add(MaxPooling2D(pool_size = (2, 2)))\n",
    "\n",
    "# Add another Convolution layer with 32 kernels of 3X3 shape with activation function ReLU\n",
    "classifier.add(Conv2D(32, (3, 3), activation = 'relu', padding = 'same'))\n",
    "\n",
    "# Adding another pooling layer\n",
    "classifier.add(MaxPooling2D(pool_size = (2, 2)))\n",
    "\n",
    "# Add another Convolution layer with 32 kernels of 3X3 shape with activation function ReLU\n",
    "classifier.add(Conv2D(32, (3, 3), activation = 'relu', padding = 'valid'))\n",
    "\n",
    "# Adding another pooling layer\n",
    "classifier.add(MaxPooling2D(pool_size = (2, 2)))\n",
    "\n",
    "# Flattening the layer before fully connected layers\n",
    "classifier.add(Flatten())\n",
    "\n",
    "# Adding a fully connected layer with 512 neurons\n",
    "classifier.add(Dense(units = 512, activation = 'relu'))\n",
    "\n",
    "# Adding dropout with probability 0.5\n",
    "classifier.add(Dropout(0.5))\n",
    "\n",
    "# Adding a fully connected layer with 128 neurons\n",
    "classifier.add(Dense(units = 128, activation = 'relu'))\n",
    "\n",
    "# The final output layer with 3 neurons to predict the categorical classifcation\n",
    "classifier.add(Dense(units = 3, activation = 'softmax'))"
   ]
  },
  {
   "cell_type": "code",
   "execution_count": 20,
   "id": "18c5ce6c-f6bb-4cac-a68b-d45cdc36c418",
   "metadata": {
    "colab": {},
    "colab_type": "code",
    "id": "CtMbL_TvTnlp"
   },
   "outputs": [
    {
     "data": {
      "application/javascript": [
       "\n",
       "            setTimeout(function() {\n",
       "                var nbb_cell_id = 20;\n",
       "                var nbb_unformatted_code = \"''' Compile model (using the efficient Adam gradient descent optimization algorithm\\n    with a logarithmic loss function, which is called \\u201ccategorical_crossentropy\\u201d in Keras.)'''\\nclassifier.compile(\\n    optimizer = 'adam', \\n    loss = 'categorical_crossentropy', \\n    # loss = tf.losses.SparseCategoricalCrossentropy(from_logits=True),    \\n    # loss = tf.losses.SparseCategoricalCrossentropy(),\\n    metrics = ['accuracy']\\n)\";\n",
       "                var nbb_formatted_code = \"\\\"\\\"\\\" Compile model (using the efficient Adam gradient descent optimization algorithm\\n    with a logarithmic loss function, which is called \\u201ccategorical_crossentropy\\u201d in Keras.)\\\"\\\"\\\"\\nclassifier.compile(\\n    optimizer=\\\"adam\\\",\\n    loss=\\\"categorical_crossentropy\\\",\\n    # loss = tf.losses.SparseCategoricalCrossentropy(from_logits=True),\\n    # loss = tf.losses.SparseCategoricalCrossentropy(),\\n    metrics=[\\\"accuracy\\\"],\\n)\";\n",
       "                var nbb_cells = Jupyter.notebook.get_cells();\n",
       "                for (var i = 0; i < nbb_cells.length; ++i) {\n",
       "                    if (nbb_cells[i].input_prompt_number == nbb_cell_id) {\n",
       "                        if (nbb_cells[i].get_text() == nbb_unformatted_code) {\n",
       "                             nbb_cells[i].set_text(nbb_formatted_code);\n",
       "                        }\n",
       "                        break;\n",
       "                    }\n",
       "                }\n",
       "            }, 500);\n",
       "            "
      ],
      "text/plain": [
       "<IPython.core.display.Javascript object>"
      ]
     },
     "metadata": {},
     "output_type": "display_data"
    }
   ],
   "source": [
    "''' Compile model (using the efficient Adam gradient descent optimization algorithm\n",
    "    with a logarithmic loss function, which is called “categorical_crossentropy” in Keras.)'''\n",
    "classifier.compile(\n",
    "    optimizer = 'adam', \n",
    "    loss = 'categorical_crossentropy', \n",
    "    # loss = tf.losses.SparseCategoricalCrossentropy(from_logits=True),    \n",
    "    # loss = tf.losses.SparseCategoricalCrossentropy(),\n",
    "    metrics = ['accuracy']\n",
    ")"
   ]
  },
  {
   "cell_type": "code",
   "execution_count": 21,
   "id": "adaa1391-99c4-47e8-8940-6f3dafcfabf1",
   "metadata": {},
   "outputs": [
    {
     "name": "stdout",
     "output_type": "stream",
     "text": [
      "Model: \"sequential\"\n",
      "_________________________________________________________________\n",
      " Layer (type)                Output Shape              Param #   \n",
      "=================================================================\n",
      " conv2d (Conv2D)             (None, 28, 28, 32)        896       \n",
      "                                                                 \n",
      " max_pooling2d (MaxPooling2D  (None, 14, 14, 32)       0         \n",
      " )                                                               \n",
      "                                                                 \n",
      " conv2d_1 (Conv2D)           (None, 14, 14, 32)        9248      \n",
      "                                                                 \n",
      " max_pooling2d_1 (MaxPooling  (None, 7, 7, 32)         0         \n",
      " 2D)                                                             \n",
      "                                                                 \n",
      " conv2d_2 (Conv2D)           (None, 5, 5, 32)          9248      \n",
      "                                                                 \n",
      " max_pooling2d_2 (MaxPooling  (None, 2, 2, 32)         0         \n",
      " 2D)                                                             \n",
      "                                                                 \n",
      " flatten (Flatten)           (None, 128)               0         \n",
      "                                                                 \n",
      " dense (Dense)               (None, 512)               66048     \n",
      "                                                                 \n",
      " dropout (Dropout)           (None, 512)               0         \n",
      "                                                                 \n",
      " dense_1 (Dense)             (None, 128)               65664     \n",
      "                                                                 \n",
      " dense_2 (Dense)             (None, 3)                 387       \n",
      "                                                                 \n",
      "=================================================================\n",
      "Total params: 151,491\n",
      "Trainable params: 151,491\n",
      "Non-trainable params: 0\n",
      "_________________________________________________________________\n"
     ]
    },
    {
     "data": {
      "application/javascript": [
       "\n",
       "            setTimeout(function() {\n",
       "                var nbb_cell_id = 21;\n",
       "                var nbb_unformatted_code = \"classifier.summary()\";\n",
       "                var nbb_formatted_code = \"classifier.summary()\";\n",
       "                var nbb_cells = Jupyter.notebook.get_cells();\n",
       "                for (var i = 0; i < nbb_cells.length; ++i) {\n",
       "                    if (nbb_cells[i].input_prompt_number == nbb_cell_id) {\n",
       "                        if (nbb_cells[i].get_text() == nbb_unformatted_code) {\n",
       "                             nbb_cells[i].set_text(nbb_formatted_code);\n",
       "                        }\n",
       "                        break;\n",
       "                    }\n",
       "                }\n",
       "            }, 500);\n",
       "            "
      ],
      "text/plain": [
       "<IPython.core.display.Javascript object>"
      ]
     },
     "metadata": {},
     "output_type": "display_data"
    }
   ],
   "source": [
    "classifier.summary()"
   ]
  },
  {
   "cell_type": "code",
   "execution_count": 22,
   "id": "1bdab09a-9996-46dd-ba0e-e2db9ca52360",
   "metadata": {},
   "outputs": [
    {
     "data": {
      "application/javascript": [
       "\n",
       "            setTimeout(function() {\n",
       "                var nbb_cell_id = 22;\n",
       "                var nbb_unformatted_code = \"# adding earlystopping callback\\nes= callbacks.EarlyStopping(\\n    monitor='val_loss',\\n    min_delta=0,\\n    patience=5,\\n    verbose=0, \\n    mode='min', \\n    restore_best_weights= True\\n)\\n\\ncheckpoint_filepath = '/tmp/checkpoint'\\n\\nmc = tf.keras.callbacks.ModelCheckpoint(\\n    filepath=checkpoint_filepath,\\n    save_weights_only=True,\\n    monitor='val_accuracy',\\n    mode='max',\\n    save_best_only=True)\\n\\n# #add class weights\\n# class_weights = class_weight.compute_class_weight('balanced', classes=np.unique(training_set), y=test_set)\\n# class_weights = dict(enumerate(class_weights))\";\n",
       "                var nbb_formatted_code = \"# adding earlystopping callback\\nes = callbacks.EarlyStopping(\\n    monitor=\\\"val_loss\\\",\\n    min_delta=0,\\n    patience=5,\\n    verbose=0,\\n    mode=\\\"min\\\",\\n    restore_best_weights=True,\\n)\\n\\ncheckpoint_filepath = \\\"/tmp/checkpoint\\\"\\n\\nmc = tf.keras.callbacks.ModelCheckpoint(\\n    filepath=checkpoint_filepath,\\n    save_weights_only=True,\\n    monitor=\\\"val_accuracy\\\",\\n    mode=\\\"max\\\",\\n    save_best_only=True,\\n)\\n\\n# #add class weights\\n# class_weights = class_weight.compute_class_weight('balanced', classes=np.unique(training_set), y=test_set)\\n# class_weights = dict(enumerate(class_weights))\";\n",
       "                var nbb_cells = Jupyter.notebook.get_cells();\n",
       "                for (var i = 0; i < nbb_cells.length; ++i) {\n",
       "                    if (nbb_cells[i].input_prompt_number == nbb_cell_id) {\n",
       "                        if (nbb_cells[i].get_text() == nbb_unformatted_code) {\n",
       "                             nbb_cells[i].set_text(nbb_formatted_code);\n",
       "                        }\n",
       "                        break;\n",
       "                    }\n",
       "                }\n",
       "            }, 500);\n",
       "            "
      ],
      "text/plain": [
       "<IPython.core.display.Javascript object>"
      ]
     },
     "metadata": {},
     "output_type": "display_data"
    }
   ],
   "source": [
    "# adding earlystopping callback\n",
    "es= callbacks.EarlyStopping(\n",
    "    monitor='val_loss',\n",
    "    min_delta=0,\n",
    "    patience=5,\n",
    "    verbose=0, \n",
    "    mode='min', \n",
    "    restore_best_weights= True\n",
    ")\n",
    "\n",
    "checkpoint_filepath = '/tmp/checkpoint'\n",
    "\n",
    "mc = tf.keras.callbacks.ModelCheckpoint(\n",
    "    filepath=checkpoint_filepath,\n",
    "    save_weights_only=True,\n",
    "    monitor='val_accuracy',\n",
    "    mode='max',\n",
    "    save_best_only=True)\n",
    "\n",
    "# #add class weights\n",
    "# class_weights = class_weight.compute_class_weight('balanced', classes=np.unique(training_set), y=test_set)\n",
    "# class_weights = dict(enumerate(class_weights))\n"
   ]
  },
  {
   "cell_type": "code",
   "execution_count": 23,
   "id": "4741d234-a5be-4a64-9d83-5945424b33e5",
   "metadata": {},
   "outputs": [
    {
     "name": "stdout",
     "output_type": "stream",
     "text": [
      "Epoch 1/100\n",
      "8/8 [==============================] - 2s 95ms/step - loss: 1.1124 - accuracy: 0.3458 - val_loss: 1.0986 - val_accuracy: 0.3333\n",
      "Epoch 2/100\n",
      "8/8 [==============================] - 0s 47ms/step - loss: 1.0964 - accuracy: 0.3708 - val_loss: 1.0956 - val_accuracy: 0.4667\n",
      "Epoch 3/100\n",
      "8/8 [==============================] - 0s 41ms/step - loss: 1.1040 - accuracy: 0.3083 - val_loss: 1.0954 - val_accuracy: 0.3333\n",
      "Epoch 4/100\n",
      "8/8 [==============================] - 0s 40ms/step - loss: 1.1087 - accuracy: 0.2875 - val_loss: 1.0941 - val_accuracy: 0.3333\n",
      "Epoch 5/100\n",
      "8/8 [==============================] - 0s 46ms/step - loss: 1.0982 - accuracy: 0.3625 - val_loss: 1.0937 - val_accuracy: 0.5833\n",
      "Epoch 6/100\n",
      "8/8 [==============================] - 0s 40ms/step - loss: 1.0994 - accuracy: 0.3458 - val_loss: 1.0896 - val_accuracy: 0.3333\n",
      "Epoch 7/100\n",
      "8/8 [==============================] - 0s 42ms/step - loss: 1.0925 - accuracy: 0.3542 - val_loss: 1.0837 - val_accuracy: 0.3500\n",
      "Epoch 8/100\n",
      "8/8 [==============================] - 0s 43ms/step - loss: 1.0857 - accuracy: 0.3958 - val_loss: 1.0697 - val_accuracy: 0.5500\n",
      "Epoch 9/100\n",
      "8/8 [==============================] - 0s 42ms/step - loss: 1.0726 - accuracy: 0.4583 - val_loss: 1.0458 - val_accuracy: 0.4333\n",
      "Epoch 10/100\n",
      "8/8 [==============================] - 0s 61ms/step - loss: 1.0456 - accuracy: 0.4792 - val_loss: 0.9788 - val_accuracy: 0.6000\n",
      "Epoch 11/100\n",
      "8/8 [==============================] - 1s 70ms/step - loss: 1.0135 - accuracy: 0.4875 - val_loss: 0.9279 - val_accuracy: 0.6667\n",
      "Epoch 12/100\n",
      "8/8 [==============================] - 0s 57ms/step - loss: 0.9123 - accuracy: 0.6125 - val_loss: 0.7794 - val_accuracy: 0.6333\n",
      "Epoch 13/100\n",
      "8/8 [==============================] - 1s 73ms/step - loss: 0.8820 - accuracy: 0.5792 - val_loss: 0.8886 - val_accuracy: 0.6833\n",
      "Epoch 14/100\n",
      "8/8 [==============================] - 0s 44ms/step - loss: 0.8778 - accuracy: 0.6042 - val_loss: 0.7377 - val_accuracy: 0.6667\n",
      "Epoch 15/100\n",
      "8/8 [==============================] - 0s 55ms/step - loss: 0.7580 - accuracy: 0.7375 - val_loss: 0.5972 - val_accuracy: 0.8000\n",
      "Epoch 16/100\n",
      "8/8 [==============================] - 1s 67ms/step - loss: 0.6535 - accuracy: 0.7542 - val_loss: 0.4614 - val_accuracy: 0.8167\n",
      "Epoch 17/100\n",
      "8/8 [==============================] - 0s 51ms/step - loss: 0.5351 - accuracy: 0.7917 - val_loss: 0.4436 - val_accuracy: 0.8500\n",
      "Epoch 18/100\n",
      "8/8 [==============================] - 0s 47ms/step - loss: 0.4617 - accuracy: 0.8375 - val_loss: 0.4180 - val_accuracy: 0.8333\n",
      "Epoch 19/100\n",
      "8/8 [==============================] - 0s 53ms/step - loss: 0.4136 - accuracy: 0.8542 - val_loss: 0.3449 - val_accuracy: 0.9333\n",
      "Epoch 20/100\n",
      "8/8 [==============================] - 0s 46ms/step - loss: 0.3542 - accuracy: 0.8708 - val_loss: 0.3264 - val_accuracy: 0.8833\n",
      "Epoch 21/100\n",
      "8/8 [==============================] - 0s 51ms/step - loss: 0.2932 - accuracy: 0.8792 - val_loss: 0.3069 - val_accuracy: 0.9000\n",
      "Epoch 22/100\n",
      "8/8 [==============================] - 0s 47ms/step - loss: 0.1929 - accuracy: 0.9458 - val_loss: 0.3051 - val_accuracy: 0.9333\n",
      "Epoch 23/100\n",
      "8/8 [==============================] - 0s 49ms/step - loss: 0.1301 - accuracy: 0.9667 - val_loss: 0.2794 - val_accuracy: 0.9333\n",
      "Epoch 24/100\n",
      "8/8 [==============================] - 1s 76ms/step - loss: 0.1188 - accuracy: 0.9750 - val_loss: 0.2871 - val_accuracy: 0.9333\n",
      "Epoch 25/100\n",
      "8/8 [==============================] - 0s 45ms/step - loss: 0.0791 - accuracy: 0.9750 - val_loss: 0.3049 - val_accuracy: 0.9333\n",
      "Epoch 26/100\n",
      "8/8 [==============================] - 0s 47ms/step - loss: 0.0402 - accuracy: 0.9958 - val_loss: 0.3638 - val_accuracy: 0.9167\n",
      "Epoch 27/100\n",
      "8/8 [==============================] - 1s 65ms/step - loss: 0.0389 - accuracy: 0.9958 - val_loss: 0.3550 - val_accuracy: 0.9333\n",
      "Epoch 28/100\n",
      "8/8 [==============================] - 0s 45ms/step - loss: 0.0306 - accuracy: 0.9917 - val_loss: 0.3217 - val_accuracy: 0.9167\n"
     ]
    },
    {
     "data": {
      "application/javascript": [
       "\n",
       "            setTimeout(function() {\n",
       "                var nbb_cell_id = 23;\n",
       "                var nbb_unformatted_code = \"# There are 240 training images and 60 test images in total\\nhistory = classifier.fit(\\n    normalized_ds,\\n    # steps_per_epoch = int(240/32),\\n    epochs = 100,\\n    validation_data = normalized_val_ds,\\n    # validation_steps = int(60/32),\\n    # validation_split=0.2, \\n    batch_size=batch_size, \\n    callbacks=[es, mc], \\n    verbose=1,\\n    # class_weight=class_weights\\n)\";\n",
       "                var nbb_formatted_code = \"# There are 240 training images and 60 test images in total\\nhistory = classifier.fit(\\n    normalized_ds,\\n    # steps_per_epoch = int(240/32),\\n    epochs=100,\\n    validation_data=normalized_val_ds,\\n    # validation_steps = int(60/32),\\n    # validation_split=0.2,\\n    batch_size=batch_size,\\n    callbacks=[es, mc],\\n    verbose=1,\\n    # class_weight=class_weights\\n)\";\n",
       "                var nbb_cells = Jupyter.notebook.get_cells();\n",
       "                for (var i = 0; i < nbb_cells.length; ++i) {\n",
       "                    if (nbb_cells[i].input_prompt_number == nbb_cell_id) {\n",
       "                        if (nbb_cells[i].get_text() == nbb_unformatted_code) {\n",
       "                             nbb_cells[i].set_text(nbb_formatted_code);\n",
       "                        }\n",
       "                        break;\n",
       "                    }\n",
       "                }\n",
       "            }, 500);\n",
       "            "
      ],
      "text/plain": [
       "<IPython.core.display.Javascript object>"
      ]
     },
     "metadata": {},
     "output_type": "display_data"
    }
   ],
   "source": [
    "# There are 240 training images and 60 test images in total\n",
    "history = classifier.fit(\n",
    "    normalized_ds,\n",
    "    # steps_per_epoch = int(240/32),\n",
    "    epochs = 100,\n",
    "    validation_data = normalized_val_ds,\n",
    "    # validation_steps = int(60/32),\n",
    "    # validation_split=0.2, \n",
    "    batch_size=batch_size, \n",
    "    callbacks=[es, mc], \n",
    "    verbose=1,\n",
    "    # class_weight=class_weights\n",
    ")"
   ]
  },
  {
   "cell_type": "code",
   "execution_count": 24,
   "id": "9de90cb7-769c-4128-8f73-0ad78a228586",
   "metadata": {},
   "outputs": [
    {
     "data": {
      "image/png": "[encoded data removed]",
      "text/plain": [
       "<Figure size 576x576 with 2 Axes>"
      ]
     },
     "metadata": {
      "needs_background": "light"
     },
     "output_type": "display_data"
    },
    {
     "data": {
      "application/javascript": [
       "\n",
       "            setTimeout(function() {\n",
       "                var nbb_cell_id = 24;\n",
       "                var nbb_unformatted_code = \"acc = history.history['accuracy']\\nval_acc = history.history['val_accuracy']\\n\\nloss = history.history['loss']\\nval_loss = history.history['val_loss']\\n\\nepochs_range = range(len(acc))\\n\\nplt.figure(figsize=(8, 8))\\nplt.subplot(1, 2, 1)\\nplt.plot(epochs_range, acc, label='Training Accuracy')\\nplt.plot(epochs_range, val_acc, label='Validation Accuracy')\\nplt.legend(loc='lower right')\\nplt.title('Training and Validation Accuracy')\\n\\nplt.subplot(1, 2, 2)\\nplt.plot(epochs_range, loss, label='Training Loss')\\nplt.plot(epochs_range, val_loss, label='Validation Loss')\\nplt.legend(loc='upper right')\\nplt.title('Training and Validation Loss')\\nplt.show()\";\n",
       "                var nbb_formatted_code = \"acc = history.history[\\\"accuracy\\\"]\\nval_acc = history.history[\\\"val_accuracy\\\"]\\n\\nloss = history.history[\\\"loss\\\"]\\nval_loss = history.history[\\\"val_loss\\\"]\\n\\nepochs_range = range(len(acc))\\n\\nplt.figure(figsize=(8, 8))\\nplt.subplot(1, 2, 1)\\nplt.plot(epochs_range, acc, label=\\\"Training Accuracy\\\")\\nplt.plot(epochs_range, val_acc, label=\\\"Validation Accuracy\\\")\\nplt.legend(loc=\\\"lower right\\\")\\nplt.title(\\\"Training and Validation Accuracy\\\")\\n\\nplt.subplot(1, 2, 2)\\nplt.plot(epochs_range, loss, label=\\\"Training Loss\\\")\\nplt.plot(epochs_range, val_loss, label=\\\"Validation Loss\\\")\\nplt.legend(loc=\\\"upper right\\\")\\nplt.title(\\\"Training and Validation Loss\\\")\\nplt.show()\";\n",
       "                var nbb_cells = Jupyter.notebook.get_cells();\n",
       "                for (var i = 0; i < nbb_cells.length; ++i) {\n",
       "                    if (nbb_cells[i].input_prompt_number == nbb_cell_id) {\n",
       "                        if (nbb_cells[i].get_text() == nbb_unformatted_code) {\n",
       "                             nbb_cells[i].set_text(nbb_formatted_code);\n",
       "                        }\n",
       "                        break;\n",
       "                    }\n",
       "                }\n",
       "            }, 500);\n",
       "            "
      ],
      "text/plain": [
       "<IPython.core.display.Javascript object>"
      ]
     },
     "metadata": {},
     "output_type": "display_data"
    }
   ],
   "source": [
    "acc = history.history['accuracy']\n",
    "val_acc = history.history['val_accuracy']\n",
    "\n",
    "loss = history.history['loss']\n",
    "val_loss = history.history['val_loss']\n",
    "\n",
    "epochs_range = range(len(acc))\n",
    "\n",
    "plt.figure(figsize=(8, 8))\n",
    "plt.subplot(1, 2, 1)\n",
    "plt.plot(epochs_range, acc, label='Training Accuracy')\n",
    "plt.plot(epochs_range, val_acc, label='Validation Accuracy')\n",
    "plt.legend(loc='lower right')\n",
    "plt.title('Training and Validation Accuracy')\n",
    "\n",
    "plt.subplot(1, 2, 2)\n",
    "plt.plot(epochs_range, loss, label='Training Loss')\n",
    "plt.plot(epochs_range, val_loss, label='Validation Loss')\n",
    "plt.legend(loc='upper right')\n",
    "plt.title('Training and Validation Loss')\n",
    "plt.show()"
   ]
  },
  {
   "cell_type": "code",
   "execution_count": 25,
   "id": "1394d552-6103-4452-b16d-dd63a760df94",
   "metadata": {},
   "outputs": [
    {
     "data": {
      "text/plain": [
       "<AxesSubplot:>"
      ]
     },
     "execution_count": 25,
     "metadata": {},
     "output_type": "execute_result"
    },
    {
     "data": {
      "image/png": "[encoded data removed]",
      "text/plain": [
       "<Figure size 576x432 with 2 Axes>"
      ]
     },
     "metadata": {
      "needs_background": "light"
     },
     "output_type": "display_data"
    },
    {
     "data": {
      "application/javascript": [
       "\n",
       "            setTimeout(function() {\n",
       "                var nbb_cell_id = 25;\n",
       "                var nbb_unformatted_code = \"predictions = np.array([])\\nlabels =  np.array([])\\nfor x, y in normalized_val_ds:\\n    predictions = np.concatenate([predictions, np.argmax(classifier.predict(x), axis=-1)])\\n    labels = np.concatenate([labels, np.argmax(y.numpy(), axis=-1)])\\n\\ncf_matrix_n2 = tf.math.confusion_matrix(labels=labels, predictions=predictions).numpy()\\nplt.figure(figsize=(8,6))\\nsns.heatmap(cf_matrix_n2, xticklabels=class_names, yticklabels=class_names, annot=True)\";\n",
       "                var nbb_formatted_code = \"predictions = np.array([])\\nlabels = np.array([])\\nfor x, y in normalized_val_ds:\\n    predictions = np.concatenate(\\n        [predictions, np.argmax(classifier.predict(x), axis=-1)]\\n    )\\n    labels = np.concatenate([labels, np.argmax(y.numpy(), axis=-1)])\\n\\ncf_matrix_n2 = tf.math.confusion_matrix(labels=labels, predictions=predictions).numpy()\\nplt.figure(figsize=(8, 6))\\nsns.heatmap(cf_matrix_n2, xticklabels=class_names, yticklabels=class_names, annot=True)\";\n",
       "                var nbb_cells = Jupyter.notebook.get_cells();\n",
       "                for (var i = 0; i < nbb_cells.length; ++i) {\n",
       "                    if (nbb_cells[i].input_prompt_number == nbb_cell_id) {\n",
       "                        if (nbb_cells[i].get_text() == nbb_unformatted_code) {\n",
       "                             nbb_cells[i].set_text(nbb_formatted_code);\n",
       "                        }\n",
       "                        break;\n",
       "                    }\n",
       "                }\n",
       "            }, 500);\n",
       "            "
      ],
      "text/plain": [
       "<IPython.core.display.Javascript object>"
      ]
     },
     "metadata": {},
     "output_type": "display_data"
    }
   ],
   "source": [
    "predictions = np.array([])\n",
    "labels =  np.array([])\n",
    "for x, y in normalized_val_ds:\n",
    "    predictions = np.concatenate([predictions, np.argmax(classifier.predict(x), axis=-1)])\n",
    "    labels = np.concatenate([labels, np.argmax(y.numpy(), axis=-1)])\n",
    "\n",
    "cf_matrix_n2 = tf.math.confusion_matrix(labels=labels, predictions=predictions).numpy()\n",
    "plt.figure(figsize=(8,6))\n",
    "sns.heatmap(cf_matrix_n2, xticklabels=class_names, yticklabels=class_names, annot=True)"
   ]
  },
  {
   "cell_type": "code",
   "execution_count": 26,
   "id": "3e337fb4-3c2a-4c13-8583-9fa657ecd2f0",
   "metadata": {},
   "outputs": [
    {
     "data": {
      "text/plain": [
       "<AxesSubplot:>"
      ]
     },
     "execution_count": 26,
     "metadata": {},
     "output_type": "execute_result"
    },
    {
     "data": {
      "image/png": "[encoded data removed]",
      "text/plain": [
       "<Figure size 576x432 with 2 Axes>"
      ]
     },
     "metadata": {
      "needs_background": "light"
     },
     "output_type": "display_data"
    },
    {
     "data": {
      "application/javascript": [
       "\n",
       "            setTimeout(function() {\n",
       "                var nbb_cell_id = 26;\n",
       "                var nbb_unformatted_code = \"predictions = np.array([])\\nlabels =  np.array([])\\nfor x, y in normalized_ds:\\n    predictions = np.concatenate([predictions, np.argmax(classifier.predict(x), axis=-1)])\\n    labels = np.concatenate([labels, np.argmax(y.numpy(), axis=-1)])\\n\\ncf_matrix_n1 = tf.math.confusion_matrix(labels=labels, predictions=predictions).numpy()\\nplt.figure(figsize=(8,6))\\nsns.heatmap(cf_matrix_n1, xticklabels=class_names, yticklabels=class_names, annot=True)\";\n",
       "                var nbb_formatted_code = \"predictions = np.array([])\\nlabels = np.array([])\\nfor x, y in normalized_ds:\\n    predictions = np.concatenate(\\n        [predictions, np.argmax(classifier.predict(x), axis=-1)]\\n    )\\n    labels = np.concatenate([labels, np.argmax(y.numpy(), axis=-1)])\\n\\ncf_matrix_n1 = tf.math.confusion_matrix(labels=labels, predictions=predictions).numpy()\\nplt.figure(figsize=(8, 6))\\nsns.heatmap(cf_matrix_n1, xticklabels=class_names, yticklabels=class_names, annot=True)\";\n",
       "                var nbb_cells = Jupyter.notebook.get_cells();\n",
       "                for (var i = 0; i < nbb_cells.length; ++i) {\n",
       "                    if (nbb_cells[i].input_prompt_number == nbb_cell_id) {\n",
       "                        if (nbb_cells[i].get_text() == nbb_unformatted_code) {\n",
       "                             nbb_cells[i].set_text(nbb_formatted_code);\n",
       "                        }\n",
       "                        break;\n",
       "                    }\n",
       "                }\n",
       "            }, 500);\n",
       "            "
      ],
      "text/plain": [
       "<IPython.core.display.Javascript object>"
      ]
     },
     "metadata": {},
     "output_type": "display_data"
    }
   ],
   "source": [
    "predictions = np.array([])\n",
    "labels =  np.array([])\n",
    "for x, y in normalized_ds:\n",
    "    predictions = np.concatenate([predictions, np.argmax(classifier.predict(x), axis=-1)])\n",
    "    labels = np.concatenate([labels, np.argmax(y.numpy(), axis=-1)])\n",
    "\n",
    "cf_matrix_n1 = tf.math.confusion_matrix(labels=labels, predictions=predictions).numpy()\n",
    "plt.figure(figsize=(8,6))\n",
    "sns.heatmap(cf_matrix_n1, xticklabels=class_names, yticklabels=class_names, annot=True)"
   ]
  },
  {
   "cell_type": "code",
   "execution_count": null,
   "id": "8e963ded-c613-48bd-aaa4-ea05da2567b9",
   "metadata": {},
   "outputs": [],
   "source": []
  }
 ],
 "metadata": {
  "kernelspec": {
   "display_name": "Python 3 (ipykernel)",
   "language": "python",
   "name": "python3"
  },
  "language_info": {
   "codemirror_mode": {
    "name": "ipython",
    "version": 3
   },
   "file_extension": ".py",
   "mimetype": "text/x-python",
   "name": "python",
   "nbconvert_exporter": "python",
   "pygments_lexer": "ipython3",
   "version": "3.9.7"
  }
 },
 "nbformat": 4,
 "nbformat_minor": 5
}
